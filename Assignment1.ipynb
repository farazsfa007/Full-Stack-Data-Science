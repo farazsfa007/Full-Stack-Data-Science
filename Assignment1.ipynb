{
 "cells": [
  {
   "attachments": {},
   "cell_type": "markdown",
   "metadata": {},
   "source": [
    "Ans 1 :\n",
    "Guido van Rossum devoloped the Python programming language"
   ]
  },
  {
   "attachments": {},
   "cell_type": "markdown",
   "metadata": {},
   "source": [
    "Ans 2 :\n",
    "Python is a multi-paradigm programming language. Object-oriented programming and structured programming are fully supported, and many of their features support functional programming and aspect-oriented programming"
   ]
  },
  {
   "attachments": {},
   "cell_type": "markdown",
   "metadata": {},
   "source": [
    "Ans 3 :\n",
    "Yes, Python is case sensitive when dealing with identifiers, including variable names, function names, and class names. This means that an identifier named \"example\" is different from an identifier named \"Example\" or \"EXAMPLE\". It is a good practice to use lowercase letters and separate words in an identifier using underscores (e.g., \"example_identifier\").\n",
    "\n",
    "In Python, you can use letters, numbers, and underscores in your identifiers, but they must start with a letter or an underscore. Additionally, there are some reserved words, such as \"for\", \"while\", \"if\", etc., that cannot be used as identifiers in Python."
   ]
  },
  {
   "attachments": {},
   "cell_type": "markdown",
   "metadata": {},
   "source": [
    "Ans 4 :The correct extention of python file is **.py**"
   ]
  },
  {
   "attachments": {},
   "cell_type": "markdown",
   "metadata": {},
   "source": [
    "Ans 5 :Python is an interpreted language, not a compiled language. This means that the code you write in Python is executed line by line by the Python interpreter, rather than being compiled into machine code that can be executed directly by the computer's hardware."
   ]
  },
  {
   "attachments": {},
   "cell_type": "markdown",
   "metadata": {},
   "source": [
    "**Ans 6 :There are the some Python code**"
   ]
  },
  {
   "cell_type": "code",
   "execution_count": 1,
   "metadata": {},
   "outputs": [
    {
     "name": "stdout",
     "output_type": "stream",
     "text": [
      "Hello World!!\n"
     ]
    }
   ],
   "source": [
    "print(\"Hello World!!\")"
   ]
  },
  {
   "cell_type": "code",
   "execution_count": 2,
   "metadata": {},
   "outputs": [
    {
     "name": "stdout",
     "output_type": "stream",
     "text": [
      "No, Wrong Answer\n"
     ]
    }
   ],
   "source": [
    "name = input(\"Say My Name :\")\n",
    "if name == \"Haisenberg\" :\n",
    "    print(\"You are Goddam Right\")\n",
    "else:\n",
    "    print(\"No, Wrong Answer\")"
   ]
  },
  {
   "attachments": {},
   "cell_type": "markdown",
   "metadata": {},
   "source": [
    "Ans 7 :In Python we use Hash character **( # )** to give single line comment"
   ]
  },
  {
   "attachments": {},
   "cell_type": "markdown",
   "metadata": {},
   "source": [
    "Ans 8: "
   ]
  },
  {
   "cell_type": "code",
   "execution_count": null,
   "metadata": {},
   "outputs": [],
   "source": []
  }
 ],
 "metadata": {
  "kernelspec": {
   "display_name": "Python 3",
   "language": "python",
   "name": "python3"
  },
  "language_info": {
   "codemirror_mode": {
    "name": "ipython",
    "version": 3
   },
   "file_extension": ".py",
   "mimetype": "text/x-python",
   "name": "python",
   "nbconvert_exporter": "python",
   "pygments_lexer": "ipython3",
   "version": "3.11.2"
  },
  "orig_nbformat": 4,
  "vscode": {
   "interpreter": {
    "hash": "5238573367df39f7286bb46f9ff5f08f63a01a80960060ce41e3c79b190280fa"
   }
  }
 },
 "nbformat": 4,
 "nbformat_minor": 2
}
