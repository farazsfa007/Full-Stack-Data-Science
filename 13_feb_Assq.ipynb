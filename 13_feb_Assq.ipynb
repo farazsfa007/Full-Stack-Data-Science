{
 "cells": [
  {
   "cell_type": "markdown",
   "metadata": {},
   "source": [
    "Q1. Explain why we have to use the Exception class while creating a Custom Exception.\n",
    "Note: Here Exception class refers to the base class for all the exceptions.\n",
    "\n",
    "Q2. Write a python program to print Python Exception Hierarchy.\n",
    "\n",
    "Q3. What errors are defined in the ArithmeticError class? Explain any two with an example.\n",
    "\n",
    "Q4. Why LookupError class is used? Explain with an example KeyError and IndexError.\n",
    "\n",
    "Q5. Explain ImportError. What is ModuleNotFoundError?\n",
    "\n",
    "Q6. List down some best practices for exception handling in python."
   ]
  },
  {
   "cell_type": "code",
   "execution_count": 6,
   "metadata": {},
   "outputs": [
    {
     "name": "stdout",
     "output_type": "stream",
     "text": [
      "No module named 'kmclu'\n"
     ]
    }
   ],
   "source": [
    "# ans5\n",
    "# if we call any library do not exist in python then that then the compiler will show the no module error.\n",
    "\n",
    "try:\n",
    "    import logging\n",
    "    logging.basicConfig(level=logging.INFO)\n",
    "    import kmclu\n",
    "except ModuleNotFoundError as e:\n",
    "    logging.error(\"My program has {}\".format(e))\n",
    "    print(e)"
   ]
  },
  {
   "cell_type": "code",
   "execution_count": 3,
   "metadata": {},
   "outputs": [],
   "source": [
    "# ans3\n",
    "# there are 3 types of error defined in python that are used to handle numerical error\n",
    "# 1. OverflowError\n",
    "# 2. ZeroDivisionError\n",
    "# 3.FloatingPointError\n",
    "\n",
    "# Integer overflow (OverflowError)\n",
    "try:\n",
    "    result = 2 ** 1000\n",
    "except OverflowError as e:\n",
    "    print(\"Caught an OverflowError:\", e)\n"
   ]
  },
  {
   "cell_type": "code",
   "execution_count": 2,
   "metadata": {},
   "outputs": [
    {
     "ename": "ZeroDivisionError",
     "evalue": "float division by zero",
     "output_type": "error",
     "traceback": [
      "\u001b[1;31m---------------------------------------------------------------------------\u001b[0m",
      "\u001b[1;31mZeroDivisionError\u001b[0m                         Traceback (most recent call last)",
      "Cell \u001b[1;32mIn[2], line 2\u001b[0m\n\u001b[0;32m      1\u001b[0m \u001b[39mtry\u001b[39;00m:\n\u001b[1;32m----> 2\u001b[0m     result \u001b[39m=\u001b[39m \u001b[39m10.0\u001b[39;49m \u001b[39m/\u001b[39;49m \u001b[39m0.0\u001b[39;49m\n\u001b[0;32m      3\u001b[0m \u001b[39mexcept\u001b[39;00m \u001b[39mFloatingPointError\u001b[39;00m \u001b[39mas\u001b[39;00m e:\n\u001b[0;32m      4\u001b[0m     \u001b[39mprint\u001b[39m(\u001b[39m\"\u001b[39m\u001b[39mCaught an Floating poit error: \u001b[39m\u001b[39m{}\u001b[39;00m\u001b[39m\"\u001b[39m\u001b[39m.\u001b[39mformat(e) )\n",
      "\u001b[1;31mZeroDivisionError\u001b[0m: float division by zero"
     ]
    }
   ],
   "source": [
    "try:\n",
    "    result = 10.0 / 0.0\n",
    "except FloatingPointError as e:\n",
    "    print(\"Caught an Floating poit error: {}\".format(e) )"
   ]
  },
  {
   "cell_type": "markdown",
   "metadata": {},
   "source": [
    "# ans2\n",
    "\n",
    "Exception hierarchy this means the when we use the Specific Exception name (Ex- ZerodivisionError) error then it has low priority then Exception class thats we have use Exception name then use Exception class."
   ]
  },
  {
   "cell_type": "code",
   "execution_count": 1,
   "metadata": {},
   "outputs": [
    {
     "name": "stdout",
     "output_type": "stream",
     "text": [
      "Caught a ZeroDivisionError: float division by zero\n"
     ]
    }
   ],
   "source": [
    "# Ex\n",
    "try:\n",
    "    result = 1.0 / 0.0\n",
    "except ZeroDivisionError as e:\n",
    "    print(\"Caught a ZeroDivisionError: {}\".format(e))\n",
    "except OverflowError as e:\n",
    "    print(\"Caught an OverflowError: {}\".format(e))\n",
    "except FloatingPointError as e:\n",
    "    print(\"Caught a FloatingPointError: {}\".format(e))\n",
    "except ValueError as e:\n",
    "    print(\"Caught a ValueError: {}\".format(e))\n",
    "except Exception as e:\n",
    "    print(\"Caught an unknown exception: {}\".format(e))\n"
   ]
  },
  {
   "cell_type": "code",
   "execution_count": null,
   "metadata": {},
   "outputs": [],
   "source": []
  }
 ],
 "metadata": {
  "kernelspec": {
   "display_name": "Python 3",
   "language": "python",
   "name": "python3"
  },
  "language_info": {
   "codemirror_mode": {
    "name": "ipython",
    "version": 3
   },
   "file_extension": ".py",
   "mimetype": "text/x-python",
   "name": "python",
   "nbconvert_exporter": "python",
   "pygments_lexer": "ipython3",
   "version": "3.11.2"
  },
  "orig_nbformat": 4
 },
 "nbformat": 4,
 "nbformat_minor": 2
}
