{
 "cells": [
  {
   "attachments": {},
   "cell_type": "markdown",
   "metadata": {},
   "source": [
    "Q1. Which function is used to open a file? What are the different modes of opening a file? Explain each mode\n",
    "of file opening."
   ]
  },
  {
   "attachments": {},
   "cell_type": "markdown",
   "metadata": {},
   "source": [
    "*OPEN* Open() function is used to open a file thare are two types of modes to open a file\n",
    "\n",
    " there are 5 modes to open a file :-\n",
    "1. Read (r): it used to read a file .\n",
    "2. write (w) it is used to write a file .\n",
    "3. append (a) this command is used to append a the data into a file .\n",
    "4. text mode (t): it function is used to read text from the file .\n",
    "5. binary mode (b): is a mode used when opening a file to indicate that the file should be treated as a binary file. In binary mode, the file is processed as a sequence of bytes.\n",
    "\n",
    "\n"
   ]
  },
  {
   "attachments": {},
   "cell_type": "markdown",
   "metadata": {},
   "source": [
    "Q2. Why close() function is used? Why is it important to close a file?"
   ]
  },
  {
   "attachments": {},
   "cell_type": "markdown",
   "metadata": {},
   "source": [
    "The close() function is used to close a file that has been opened using the open() function. It is important to close a file after you have finished working with it for several reasons:\n",
    "\n",
    "1. Resourse managment\n",
    "2. Data Integrity\n",
    "3. prevention of data loss"
   ]
  },
  {
   "attachments": {},
   "cell_type": "markdown",
   "metadata": {},
   "source": [
    "Q3. Write a python program to create a text file. Write ‘I want to become a Data Scientist’ in that file. Then\n",
    "close the file. Open this file and read the content of the file."
   ]
  },
  {
   "cell_type": "markdown",
   "metadata": {},
   "source": []
  }
 ],
 "metadata": {
  "language_info": {
   "name": "python"
  },
  "orig_nbformat": 4
 },
 "nbformat": 4,
 "nbformat_minor": 2
}
