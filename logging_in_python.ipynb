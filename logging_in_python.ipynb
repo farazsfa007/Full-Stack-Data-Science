{
 "cells": [
  {
   "cell_type": "code",
   "execution_count": 1,
   "metadata": {},
   "outputs": [
    {
     "name": "stdout",
     "output_type": "stream",
     "text": [
      "this is my project\n"
     ]
    }
   ],
   "source": [
    "print(\"this is my project\")"
   ]
  },
  {
   "cell_type": "code",
   "execution_count": 2,
   "metadata": {},
   "outputs": [],
   "source": [
    "import logging"
   ]
  },
  {
   "cell_type": "code",
   "execution_count": 3,
   "metadata": {},
   "outputs": [],
   "source": [
    "logging.basicConfig(filename = \"test.log\",level = logging.INFO)"
   ]
  },
  {
   "cell_type": "code",
   "execution_count": 4,
   "metadata": {},
   "outputs": [],
   "source": [
    "logging.info(\"this is my new loging concept which is so cool\")\n",
    "logging.info(\"this is my project\")"
   ]
  },
  {
   "cell_type": "code",
   "execution_count": 5,
   "metadata": {},
   "outputs": [],
   "source": [
    "logging.debug(\"This is my debug msg\")"
   ]
  },
  {
   "cell_type": "code",
   "execution_count": 6,
   "metadata": {},
   "outputs": [],
   "source": [
    "logging.warning(\"THIS MASSGE IS FOR WARNIG\")"
   ]
  },
  {
   "cell_type": "code",
   "execution_count": 7,
   "metadata": {},
   "outputs": [],
   "source": [
    "logging.error(\"this is for Error msg\")"
   ]
  },
  {
   "cell_type": "code",
   "execution_count": 8,
   "metadata": {},
   "outputs": [],
   "source": [
    "logging.critical(\"this massge is for critical\")"
   ]
  },
  {
   "cell_type": "code",
   "execution_count": 9,
   "metadata": {},
   "outputs": [],
   "source": [
    "logging.shutdown()"
   ]
  },
  {
   "attachments": {},
   "cell_type": "markdown",
   "metadata": {},
   "source": [
    "1. NOTSET (SET LEVEL)\n",
    "2. DEBUG  (SET LEVEL)\n",
    "3. INFO   (SET LEVEL)\n",
    "4. WARNIG\n",
    "5. ERROR\n",
    "6. CRITICAL"
   ]
  },
  {
   "cell_type": "code",
   "execution_count": 20,
   "metadata": {},
   "outputs": [],
   "source": [
    "import logging"
   ]
  },
  {
   "cell_type": "code",
   "execution_count": 21,
   "metadata": {},
   "outputs": [],
   "source": [
    "logging.basicConfig(filename=\"test2.txt\",level = logging.DEBUG, format = '%(asctime)s %(message)s')"
   ]
  },
  {
   "cell_type": "code",
   "execution_count": 22,
   "metadata": {},
   "outputs": [],
   "source": [
    "logging.info(\"this is my info loging\")\n",
    "logging.error(\"this is my error msg\")\n",
    "logging.critical(\"this is my critical\")"
   ]
  },
  {
   "cell_type": "code",
   "execution_count": 23,
   "metadata": {},
   "outputs": [],
   "source": [
    "logging.shutdown()"
   ]
  },
  {
   "cell_type": "code",
   "execution_count": 19,
   "metadata": {},
   "outputs": [],
   "source": [
    "import logging\n",
    "\n",
    "logging.basicConfig(filename=\"test5.txt\", level=logging.DEBUG, format='%(asctime)s %(name)s %(levelname)s %(message)s')\n",
    "\n",
    "logging.info(\"This is my info log\")\n",
    "logging.error(\"This is my error message\")\n",
    "logging.critical(\"This is my critical message\")"
   ]
  },
  {
   "cell_type": "code",
   "execution_count": 15,
   "metadata": {},
   "outputs": [],
   "source": [
    "l = [1,2,3,4,5,[5,6,7,4],\"Mohan\",\"Kumar\"]"
   ]
  },
  {
   "cell_type": "code",
   "execution_count": 16,
   "metadata": {},
   "outputs": [],
   "source": [
    "l1_int = []\n",
    "l2_str = []\n",
    "\n",
    "for i in l:\n",
    "    logging.info(\"we are iterating through our list and our local var is {} \".format(l))\n",
    "    if type(i) == list:\n",
    "        logging.info(\"i am inside if statement and i am trying to check list type \" + str(i))\n",
    "        for j in l:\n",
    "            logging.info(\"i am in another for loop for list in list element \" + str(j))\n",
    "            if type(j)==int:\n",
    "                logging.info(\"i am inside if statement \")\n",
    "                l1_int.append(j)\n",
    "    elif type(i) == int:\n",
    "        l1_int.append(i)\n",
    "    else :\n",
    "        if type(i) == str:\n",
    "            l2_str.append(i)\n",
    "logging.info(\"My final result for Integer is {l1} and String is {l2}\".format(l1 = l1_int,l2 = l2_str))"
   ]
  },
  {
   "cell_type": "code",
   "execution_count": 17,
   "metadata": {},
   "outputs": [
    {
     "data": {
      "text/plain": [
       "[1, 2, 3, 4, 5, 1, 2, 3, 4, 5]"
      ]
     },
     "execution_count": 17,
     "metadata": {},
     "output_type": "execute_result"
    }
   ],
   "source": [
    "l1_int"
   ]
  },
  {
   "cell_type": "code",
   "execution_count": 27,
   "metadata": {},
   "outputs": [],
   "source": [
    "import logging\n",
    "\n",
    "# Basic logging configuration\n",
    "logging.basicConfig(format='%(asctime)s - %(message)s', datefmt='%d-%b-%y %H:%M:%S')\n",
    "\n",
    "# Log a warning message\n",
    "logging.warning('Admin logged out')\n"
   ]
  },
  {
   "cell_type": "code",
   "execution_count": 18,
   "metadata": {},
   "outputs": [
    {
     "data": {
      "text/plain": [
       "['Mohan', 'Kumar']"
      ]
     },
     "execution_count": 18,
     "metadata": {},
     "output_type": "execute_result"
    }
   ],
   "source": [
    "l2_str"
   ]
  },
  {
   "cell_type": "code",
   "execution_count": 29,
   "metadata": {},
   "outputs": [
    {
     "name": "stdout",
     "output_type": "stream",
     "text": [
      "Custom handler: This is an info message\n",
      "Custom handler: This is a warning message\n",
      "Custom handler: This is an error message\n",
      "Custom handler: This is a critical message\n",
      "Custom handler: An exception occurred: division by zero\n",
      "Traceback (most recent call last):\n",
      "  File \"C:\\Users\\faraz\\AppData\\Local\\Temp\\ipykernel_18104\\2732291146.py\", line 22, in <module>\n",
      "    result = 10 / 0\n",
      "             ~~~^~~\n",
      "ZeroDivisionError: division by zero\n",
      "Custom handler: User John Doe logged in\n",
      "Custom handler: Custom log message\n",
      "Custom handler: This message will be handled by the custom handler\n",
      "Custom handler: This message will be handled by the custom handler\n"
     ]
    }
   ],
   "source": [
    "import logging\n",
    "\n",
    "# Configure the logging system\n",
    "logging.basicConfig(\n",
    "    level=logging.DEBUG,  # Set the logging level to DEBUG\n",
    "    format='%(asctime)s [%(levelname)s] - %(message)s',  # Define the log format\n",
    "    datefmt='%Y-%m-%d %H:%M:%S'  # Define the date/time format\n",
    ")\n",
    "\n",
    "# Create a logger with a specific name\n",
    "logger = logging.getLogger('example_logger')\n",
    "\n",
    "# Log messages with different levels\n",
    "logger.debug('This is a debug message')\n",
    "logger.info('This is an info message')\n",
    "logger.warning('This is a warning message')\n",
    "logger.error('This is an error message')\n",
    "logger.critical('This is a critical message')\n",
    "\n",
    "try:\n",
    "    # Simulate an error and log an exception\n",
    "    result = 10 / 0\n",
    "except Exception as e:\n",
    "    logger.exception('An exception occurred: %s', str(e))\n",
    "\n",
    "# Log messages with placeholders\n",
    "user = 'John Doe'\n",
    "logger.info('User %s logged in', user)\n",
    "\n",
    "# Create a custom log message using log level and message\n",
    "log_record = logging.LogRecord(\n",
    "    name='custom_logger',\n",
    "    level=logging.INFO,\n",
    "    pathname='example.py',\n",
    "    lineno=42,\n",
    "    msg='Custom log message',\n",
    "    args=(),\n",
    "    exc_info=None\n",
    ")\n",
    "logger.handle(log_record)\n",
    "\n",
    "# Create a custom log handler\n",
    "class MyHandler(logging.Handler):\n",
    "    def emit(self, record):\n",
    "        print(f'Custom handler: {self.format(record)}')\n",
    "\n",
    "custom_handler = MyHandler()\n",
    "custom_handler.setLevel(logging.INFO)\n",
    "\n",
    "logger.addHandler(custom_handler)\n",
    "logger.info('This message will be handled by the custom handler')\n",
    "\n",
    "# Finalize the logging system (not necessary in most cases)\n",
    "logging.shutdown()\n"
   ]
  },
  {
   "cell_type": "code",
   "execution_count": null,
   "metadata": {},
   "outputs": [],
   "source": []
  }
 ],
 "metadata": {
  "kernelspec": {
   "display_name": "Python 3",
   "language": "python",
   "name": "python3"
  },
  "language_info": {
   "codemirror_mode": {
    "name": "ipython",
    "version": 3
   },
   "file_extension": ".py",
   "mimetype": "text/x-python",
   "name": "python",
   "nbconvert_exporter": "python",
   "pygments_lexer": "ipython3",
   "version": "3.11.6"
  },
  "orig_nbformat": 4
 },
 "nbformat": 4,
 "nbformat_minor": 2
}
