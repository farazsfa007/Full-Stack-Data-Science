{
 "cells": [
  {
   "attachments": {},
   "cell_type": "markdown",
   "metadata": {},
   "source": [
    "Q1. What is Abstraction in OOps? Explain with an example."
   ]
  },
  {
   "cell_type": "markdown",
   "metadata": {},
   "source": [
    "In OOPs, abstraction is achieved through two mechanisms: abstraction classes and interfaces. Abstraction classes provide a basic structure for creating objects, while interfaces define a set of methods that an object must implement to support a particular behavior."
   ]
  },
  {
   "attachments": {},
   "cell_type": "markdown",
   "metadata": {},
   "source": [
    "Q2. Differentiate between Abstraction and Encapsulation. Explain with an example.\n",
    "\n",
    "**- Abstraction is the process of hiding the unnecessary details of an object or system and exposing only the relevant and essential features to the outside world.**"
   ]
  },
  {
   "cell_type": "code",
   "execution_count": 1,
   "metadata": {},
   "outputs": [],
   "source": [
    "import abc\n",
    "class pwclass:\n",
    "\n",
    "    @abc.abstractmethod\n",
    "    def student_details(self):\n",
    "        pass\n",
    "\n",
    "    @abc.abstractmethod\n",
    "    def student_assignment(self):\n",
    "        pass\n",
    "\n",
    "    @abc.abstractmethod\n",
    "    def student_marks(self):\n",
    "        pass\n"
   ]
  },
  {
   "cell_type": "code",
   "execution_count": 2,
   "metadata": {},
   "outputs": [],
   "source": [
    "class student_details(pwclass):\n",
    "    def student_details(self):\n",
    "        return \"this is method for assignment details\"\n",
    "    def student_assignment(self):\n",
    "        return \"this is method for assignment details for paritcualr \"\n"
   ]
  },
  {
   "cell_type": "code",
   "execution_count": 3,
   "metadata": {},
   "outputs": [],
   "source": [
    "class data_science_masters(pwclass):\n",
    "    def student_details(self):\n",
    "        return \"this will return a student details for data scinece masters\"\n",
    "    def student_assignment(self):\n",
    "        return \"this will give you student assignment details for data scince masters\"\n",
    "    "
   ]
  },
  {
   "cell_type": "code",
   "execution_count": 4,
   "metadata": {},
   "outputs": [
    {
     "data": {
      "text/plain": [
       "'this will return a student details for data scinece masters'"
      ]
     },
     "execution_count": 4,
     "metadata": {},
     "output_type": "execute_result"
    }
   ],
   "source": [
    "dsm = data_science_masters()\n",
    "dsm.student_details()"
   ]
  },
  {
   "cell_type": "code",
   "execution_count": 5,
   "metadata": {},
   "outputs": [
    {
     "data": {
      "text/plain": [
       "'this is method for assignment details'"
      ]
     },
     "execution_count": 5,
     "metadata": {},
     "output_type": "execute_result"
    }
   ],
   "source": [
    "sd = student_details()\n",
    "sd.student_details()"
   ]
  },
  {
   "attachments": {},
   "cell_type": "markdown",
   "metadata": {},
   "source": [
    "**Encapsulation, on the other hand, is the process of wrapping the data and methods that operate on the data into a single unit called a class. It is a mechanism that restricts the access to the internal details of an object and provides access only through the methods defined in the class. Encapsulation focuses on the how part of the system, i.e., how the system does what it does.**"
   ]
  },
  {
   "cell_type": "code",
   "execution_count": 7,
   "metadata": {},
   "outputs": [
    {
     "name": "stdout",
     "output_type": "stream",
     "text": [
      "Account balance: 1000\n",
      "Deposit successful. New balance: 1500\n",
      "Withdrawal successful. New balance: 1300\n",
      "Account balance: 1300\n"
     ]
    }
   ],
   "source": [
    "class BankAccount:\n",
    "    def __init__(self, account_number, account_holder, balance):\n",
    "        self.__account_number = account_number\n",
    "        self.__account_holder = account_holder\n",
    "        self.__balance = balance\n",
    "\n",
    "    def deposit(self, amount):\n",
    "        self.__balance += amount\n",
    "        print(\"Deposit successful. New balance:\", self.__balance)\n",
    "\n",
    "    def withdraw(self, amount):\n",
    "        if self.__balance >= amount:\n",
    "            self.__balance -= amount\n",
    "            print(\"Withdrawal successful. New balance:\", self.__balance)\n",
    "        else:\n",
    "            print(\"Insufficient balance.\")\n",
    "\n",
    "    def get_balance(self):\n",
    "        return self.__balance\n",
    "\n",
    "account = BankAccount(1234567890, \"Kumar Sanu\", 1000)\n",
    "print(\"Account balance:\", account.get_balance())\n",
    "account.deposit(500)\n",
    "account.withdraw(200)\n",
    "print(\"Account balance:\", account.get_balance())\n"
   ]
  },
  {
   "attachments": {},
   "cell_type": "markdown",
   "metadata": {},
   "source": [
    "Q3. What is abc module in python? Why is it used?\n",
    "\n",
    "**The abc module in Python is a tool that programmers use to create abstract classes, which are like blueprints for other classes. These abstract classes cannot be used on their own, but other classes can be built from them.**\n",
    "\n",
    "**The abc module is used because it helps programmers to make sure that other classes that are built from an abstract class have certain methods or properties. This can help prevent errors or bugs in the program.**"
   ]
  },
  {
   "attachments": {},
   "cell_type": "markdown",
   "metadata": {},
   "source": [
    "Q4. How can we achieve data abstraction?\n",
    "\n",
    "**Data abstraction is a way to hide some details of how a program works, and only show the important parts that other parts of the program need to know about. It's like a secret code that only certain parts of the program understand.One way to achieve data abstraction in programming is by using something called abstract classes or interfaces. These are like blueprints for how different parts of the program should work, but they don't actually do anything on their own.**"
   ]
  },
  {
   "attachments": {},
   "cell_type": "markdown",
   "metadata": {},
   "source": [
    "Q5. Can we create an instance of an abstract class? Explain your answer.\n",
    "\n",
    "**we cannot create an instance of an abstract class in Python. An abstract class is a class that contains one or more abstract methods, which are methods that have a declaration but no implementation. The purpose of an abstract class is to provide a base class for its derived classes to inherit and implement its methods.**"
   ]
  },
  {
   "cell_type": "markdown",
   "metadata": {},
   "source": []
  }
 ],
 "metadata": {
  "kernelspec": {
   "display_name": "Python 3",
   "language": "python",
   "name": "python3"
  },
  "language_info": {
   "codemirror_mode": {
    "name": "ipython",
    "version": 3
   },
   "file_extension": ".py",
   "mimetype": "text/x-python",
   "name": "python",
   "nbconvert_exporter": "python",
   "pygments_lexer": "ipython3",
   "version": "3.11.2"
  },
  "orig_nbformat": 4
 },
 "nbformat": 4,
 "nbformat_minor": 2
}
