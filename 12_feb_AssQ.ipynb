{
 "cells": [
  {
   "cell_type": "markdown",
   "metadata": {},
   "source": [
    "**Q1. What is an Exception in python? Write the difference between Exceptions and Syntax errors**"
   ]
  },
  {
   "cell_type": "markdown",
   "metadata": {},
   "source": [
    "**Exception Occors during the execution of a program, disrupting the normal flow of the program's instructions. When an exceptional situation occurs, Python generates an exception object, which represents the occurrence of the error or exceptional condition. This exception object contains information about the type of error and additional details that can be used to handle the exception appropriately.**"
   ]
  },
  {
   "cell_type": "markdown",
   "metadata": {},
   "source": [
    "**Difference between Exceptions and Syntax errors**"
   ]
  },
  {
   "cell_type": "markdown",
   "metadata": {},
   "source": [
    "**Syntax Errors:-** This type of Error Occurs when there is incorrect Syntax in a program\n",
    "\n",
    "**Exception** happend during the execution of a program exception disrupt the normal flow of a program"
   ]
  },
  {
   "cell_type": "markdown",
   "metadata": {},
   "source": [
    "**Q2. What happens when an exeption is not handled ? explain with an example.**"
   ]
  },
  {
   "cell_type": "markdown",
   "metadata": {},
   "source": [
    "AssertionError exceptions can be caught and handled like any other exception using the try-except statement, but if not handled, they will terminate the program and produce a traceback."
   ]
  },
  {
   "cell_type": "markdown",
   "metadata": {},
   "source": [
    "**Q3. Which Python statement are used to catch and handle exceptions ? Explain with an Example** "
   ]
  },
  {
   "cell_type": "markdown",
   "metadata": {},
   "source": [
    "***Try* and *Except* block in python is used to catch and handle exception**"
   ]
  },
  {
   "cell_type": "code",
   "execution_count": 1,
   "metadata": {},
   "outputs": [
    {
     "name": "stdout",
     "output_type": "stream",
     "text": [
      "division by zero\n"
     ]
    }
   ],
   "source": [
    "# <!-- Example -->\n",
    "\n",
    "try:   # to catch exceptions\n",
    "    a=10/0\n",
    "except Exception as e:  #to handle the exceptions\n",
    "    print(e)\n"
   ]
  },
  {
   "cell_type": "markdown",
   "metadata": {},
   "source": [
    "<!-- Q4. Explain the following: -->\n",
    "\n",
    "a. Try and else\n",
    "\n",
    "try : statement used to write normal code in python if there is any error in try block then the program goes to the **Except block** then except block try handle exception because it Except class is is super class of Exceptions"
   ]
  },
  {
   "cell_type": "markdown",
   "metadata": {},
   "source": [
    "**b. Finally:** finally block always runs even if try and except block has a exception"
   ]
  },
  {
   "cell_type": "markdown",
   "metadata": {},
   "source": [
    "**c. raise:** it is yoused to throw or raise the exception with the print statement"
   ]
  },
  {
   "cell_type": "code",
   "execution_count": 4,
   "metadata": {},
   "outputs": [],
   "source": [
    "x = \"HEllo\"\n",
    "if type(x) == int:\n",
    "    raise Exception(\"Only integers are allowes\")"
   ]
  },
  {
   "cell_type": "markdown",
   "metadata": {},
   "source": [
    "**Q5. What are custom Exception in python? why do we need custom Exception? Explain with example.**"
   ]
  },
  {
   "cell_type": "markdown",
   "metadata": {},
   "source": [
    "Custom Exception are created by the user using raise "
   ]
  },
  {
   "cell_type": "code",
   "execution_count": null,
   "metadata": {},
   "outputs": [],
   "source": [
    "# Example\n",
    "import logging\n",
    "\n",
    "logging.basicConfig(filename=\"Exception_Error.log\",level=logging.INFO)\n",
    "\n",
    "class validate(Exception):\n",
    "    def __init__(self, msg) :\n",
    "        self.msg = msg\n",
    "\n",
    "def validate_age(age):\n",
    "    if age < 0:\n",
    "        raise validate(\"The age less then zero is not allowed\")\n",
    "    elif age > 200:\n",
    "        raise validate(\"This age should be less then 200\")\n",
    "    else :\n",
    "        print(\"Age is valid\")\n",
    "\n",
    "try:\n",
    "    age = int(input(\"Enter age :- \"))\n",
    "    validate_age(age)\n",
    "except validate as e :\n",
    "    logging.error(\"An Exception occured %s\",e)"
   ]
  },
  {
   "cell_type": "markdown",
   "metadata": {},
   "source": [
    "**Q6. Create custom exception class. Use this class to handle an exception**"
   ]
  },
  {
   "cell_type": "markdown",
   "metadata": {},
   "source": [
    "**A custom exception class is a user-defined exception class in Python that allows you to create specialized exception types for specific situations in your code. It is useful when you encounter errors or exceptional conditions that are specific to your application or domain**"
   ]
  },
  {
   "cell_type": "code",
   "execution_count": 5,
   "metadata": {},
   "outputs": [],
   "source": [
    "# Example\n",
    "import logging\n",
    "\n",
    "logging.basicConfig(filename=\"Exception_Error.log\",level=logging.INFO)\n",
    "\n",
    "class validate(Exception):\n",
    "    def __init__(self, msg) :\n",
    "        self.msg = msg\n",
    "\n",
    "def validate_age(age):\n",
    "    if age < 0:\n",
    "        raise validate(\"The age less then zero is not allowed\")\n",
    "    elif age > 200:\n",
    "        raise validate(\"This age should be less then 200\")\n",
    "    else :\n",
    "        print(\"Age is valid\")\n",
    "\n",
    "try:\n",
    "    age = int(input(\"Enter age :- \"))\n",
    "    validate_age(age)\n",
    "except validate as e :\n",
    "    logging.error(\"An Exception occured %s\",e)"
   ]
  },
  {
   "cell_type": "code",
   "execution_count": 12,
   "metadata": {},
   "outputs": [
    {
     "name": "stdout",
     "output_type": "stream",
     "text": [
      "No module named 'KMCLU'\n"
     ]
    }
   ],
   "source": [
    "try :\n",
    "    import KMCLU\n",
    "except ImportError as e:\n",
    "    print(e)"
   ]
  },
  {
   "cell_type": "code",
   "execution_count": 20,
   "metadata": {},
   "outputs": [
    {
     "name": "stderr",
     "output_type": "stream",
     "text": [
      "ERROR:root:675 raised an error\n"
     ]
    }
   ],
   "source": [
    "import logging\n",
    "name = 675\n",
    "logging.error('%s raised an error', name)\n"
   ]
  },
  {
   "cell_type": "code",
   "execution_count": null,
   "metadata": {},
   "outputs": [],
   "source": []
  }
 ],
 "metadata": {
  "kernelspec": {
   "display_name": "Python 3",
   "language": "python",
   "name": "python3"
  },
  "language_info": {
   "codemirror_mode": {
    "name": "ipython",
    "version": 3
   },
   "file_extension": ".py",
   "mimetype": "text/x-python",
   "name": "python",
   "nbconvert_exporter": "python",
   "pygments_lexer": "ipython3",
   "version": "3.11.2"
  },
  "orig_nbformat": 4
 },
 "nbformat": 4,
 "nbformat_minor": 2
}
