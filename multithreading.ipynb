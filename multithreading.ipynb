{
 "cells": [
  {
   "cell_type": "code",
   "execution_count": 1,
   "metadata": {},
   "outputs": [],
   "source": [
    "import threading"
   ]
  },
  {
   "cell_type": "code",
   "execution_count": 2,
   "metadata": {},
   "outputs": [],
   "source": [
    "def test(id):\n",
    "    print(\"Program start at %d\"% id)"
   ]
  },
  {
   "cell_type": "code",
   "execution_count": 3,
   "metadata": {},
   "outputs": [
    {
     "name": "stdout",
     "output_type": "stream",
     "text": [
      "Program start at 34\n"
     ]
    }
   ],
   "source": [
    "test(34)"
   ]
  },
  {
   "cell_type": "code",
   "execution_count": 4,
   "metadata": {},
   "outputs": [],
   "source": [
    "thread = [threading.Thread(target=test,args=(i,) )for i in range(10)]"
   ]
  },
  {
   "cell_type": "code",
   "execution_count": 5,
   "metadata": {},
   "outputs": [
    {
     "name": "stdout",
     "output_type": "stream",
     "text": [
      "Program start at 0\n",
      "Program start at 1\n",
      "Program start at 2\n",
      "Program start at 3\n",
      "Program start at 4\n",
      "Program start at 5\n",
      "Program start at 6\n",
      "Program start at 7\n",
      "Program start at 8\n",
      "Program start at 9\n"
     ]
    }
   ],
   "source": [
    "for t in thread :\n",
    "    t.start()"
   ]
  },
  {
   "cell_type": "code",
   "execution_count": 6,
   "metadata": {},
   "outputs": [
    {
     "data": {
      "text/plain": [
       "[0, 1, 2, 3, 4, 5, 6, 7, 8, 9]"
      ]
     },
     "execution_count": 6,
     "metadata": {},
     "output_type": "execute_result"
    }
   ],
   "source": [
    "list(range(10))"
   ]
  },
  {
   "cell_type": "code",
   "execution_count": 7,
   "metadata": {},
   "outputs": [
    {
     "data": {
      "text/plain": [
       "[<Thread(Thread-5 (test), stopped 19912)>,\n",
       " <Thread(Thread-6 (test), stopped 15872)>,\n",
       " <Thread(Thread-7 (test), stopped 26496)>,\n",
       " <Thread(Thread-8 (test), stopped 1628)>,\n",
       " <Thread(Thread-9 (test), stopped 5380)>,\n",
       " <Thread(Thread-10 (test), stopped 22776)>,\n",
       " <Thread(Thread-11 (test), stopped 3400)>,\n",
       " <Thread(Thread-12 (test), stopped 2464)>,\n",
       " <Thread(Thread-13 (test), stopped 21920)>,\n",
       " <Thread(Thread-14 (test), stopped 1856)>]"
      ]
     },
     "execution_count": 7,
     "metadata": {},
     "output_type": "execute_result"
    }
   ],
   "source": [
    "thread"
   ]
  },
  {
   "cell_type": "code",
   "execution_count": 8,
   "metadata": {},
   "outputs": [
    {
     "data": {
      "text/plain": [
       "2329592602944"
      ]
     },
     "execution_count": 8,
     "metadata": {},
     "output_type": "execute_result"
    }
   ],
   "source": [
    "id(thread)"
   ]
  },
  {
   "cell_type": "markdown",
   "metadata": {},
   "source": [
    "https://raw.githubusercontent.com/itsfoss/text-files/master/agatha.txt\n",
    "https://raw.githubusercontent.com/itsfoss/text-files/master/sherlock.txt\n",
    "https://raw.githubusercontent.com/itsfoss/text-files/master/sample_log_file.txt"
   ]
  },
  {
   "cell_type": "code",
   "execution_count": 9,
   "metadata": {},
   "outputs": [],
   "source": [
    "import threading\n",
    "import urllib.request\n",
    "\n",
    "def file_Download(url, filename):\n",
    "    urllib.request.urlretrieve(url, filename)\n"
   ]
  },
  {
   "cell_type": "code",
   "execution_count": 10,
   "metadata": {},
   "outputs": [],
   "source": [
    "url_list = [\n",
    "    \"https://raw.githubusercontent.com/itsfoss/text-files/master/agatha.txt\",\n",
    "    \"https://raw.githubusercontent.com/itsfoss/text-files/master/sherlock.txt\",\n",
    "    \"https://raw.githubusercontent.com/itsfoss/text-files/master/sample_log_file.txt\"\n",
    "]"
   ]
  },
  {
   "cell_type": "code",
   "execution_count": 11,
   "metadata": {},
   "outputs": [],
   "source": [
    "file_name_list = [\"data1.txt\", \"data2.txt\", \"data3.txt\"]"
   ]
  },
  {
   "cell_type": "code",
   "execution_count": 12,
   "metadata": {},
   "outputs": [],
   "source": [
    "thread_use = [threading.Thread(target=file_Download, args=(url_list[i], file_name_list[i])) for i in range(len(url_list))]"
   ]
  },
  {
   "cell_type": "code",
   "execution_count": 13,
   "metadata": {},
   "outputs": [],
   "source": [
    "for t in thread_use:\n",
    "    t.start()\n",
    "\n",
    "for t in thread_use:\n",
    "    t.join()"
   ]
  },
  {
   "cell_type": "code",
   "execution_count": 14,
   "metadata": {},
   "outputs": [
    {
     "data": {
      "text/plain": [
       "[<Thread(Thread-15 (file_Download), stopped 20540)>,\n",
       " <Thread(Thread-16 (file_Download), stopped 17896)>,\n",
       " <Thread(Thread-17 (file_Download), stopped 22192)>]"
      ]
     },
     "execution_count": 14,
     "metadata": {},
     "output_type": "execute_result"
    }
   ],
   "source": [
    "thread_use"
   ]
  },
  {
   "cell_type": "code",
   "execution_count": 15,
   "metadata": {},
   "outputs": [],
   "source": [
    "import time"
   ]
  },
  {
   "cell_type": "code",
   "execution_count": 16,
   "metadata": {},
   "outputs": [],
   "source": [
    "def test1(id):\n",
    "    for i in range(10):\n",
    "        print(\"test1 %d printing %d %s\"%(id,i,time.ctime()))\n",
    "        time.sleep(1)"
   ]
  },
  {
   "cell_type": "code",
   "execution_count": 17,
   "metadata": {},
   "outputs": [
    {
     "name": "stdout",
     "output_type": "stream",
     "text": [
      "test1 1 printing 0 Wed Aug 23 19:27:55 2023\n",
      "test1 1 printing 1 Wed Aug 23 19:27:56 2023\n",
      "test1 1 printing 2 Wed Aug 23 19:27:57 2023\n",
      "test1 1 printing 3 Wed Aug 23 19:27:58 2023\n",
      "test1 1 printing 4 Wed Aug 23 19:27:59 2023\n",
      "test1 1 printing 5 Wed Aug 23 19:28:00 2023\n",
      "test1 1 printing 6 Wed Aug 23 19:28:01 2023\n",
      "test1 1 printing 7 Wed Aug 23 19:28:02 2023\n",
      "test1 1 printing 8 Wed Aug 23 19:28:03 2023\n",
      "test1 1 printing 9 Wed Aug 23 19:28:04 2023\n"
     ]
    }
   ],
   "source": [
    "test1(1)"
   ]
  },
  {
   "cell_type": "code",
   "execution_count": 18,
   "metadata": {},
   "outputs": [],
   "source": [
    "thread1 = [threading.Thread(target=test1,args=(i,)) for i in range(3)]"
   ]
  },
  {
   "cell_type": "code",
   "execution_count": 19,
   "metadata": {},
   "outputs": [
    {
     "name": "stdout",
     "output_type": "stream",
     "text": [
      "test1 0 printing 0 Wed Aug 23 19:28:05 2023\n",
      "test1 1 printing 0 Wed Aug 23 19:28:05 2023\n",
      "test1 2 printing 0 Wed Aug 23 19:28:05 2023\n"
     ]
    }
   ],
   "source": [
    "for t in thread1 :\n",
    "    t.start()"
   ]
  },
  {
   "cell_type": "code",
   "execution_count": 20,
   "metadata": {},
   "outputs": [],
   "source": [
    "shared_var = 0\n",
    "lock_var = threading.Lock()"
   ]
  },
  {
   "cell_type": "code",
   "execution_count": 21,
   "metadata": {},
   "outputs": [
    {
     "name": "stdout",
     "output_type": "stream",
     "text": [
      "test2 id is 0 has increased the shared variable by 1\n"
     ]
    },
    {
     "name": "stdout",
     "output_type": "stream",
     "text": [
      "test1 0 printing 1 Wed Aug 23 19:28:06 2023test1 1 printing 1 Wed Aug 23 19:28:06 2023\n",
      "\n",
      "test1 2 printing 1 Wed Aug 23 19:28:06 2023\n",
      "test2 id is 1 has increased the shared variable by 2\n",
      "test1 1 printing 2 Wed Aug 23 19:28:07 2023\n",
      "test1 2 printing 2 Wed Aug 23 19:28:07 2023\n",
      "test1 0 printing 2 Wed Aug 23 19:28:07 2023\n",
      "test2 id is 2 has increased the shared variable by 3\n",
      "test1 1 printing 3 Wed Aug 23 19:28:08 2023\n",
      "test1 2 printing 3 Wed Aug 23 19:28:08 2023\n",
      "test1 0 printing 3 Wed Aug 23 19:28:08 2023\n",
      "test1 1 printing 4 Wed Aug 23 19:28:09 2023\n",
      "test1 0 printing 4 Wed Aug 23 19:28:09 2023\n",
      "test1 2 printing 4 Wed Aug 23 19:28:09 2023\n",
      "test1 1 printing 5 Wed Aug 23 19:28:10 2023\n",
      "test1 2 printing 5 Wed Aug 23 19:28:10 2023\n",
      "test1 0 printing 5 Wed Aug 23 19:28:10 2023\n",
      "test1 1 printing 6 Wed Aug 23 19:28:11 2023\n",
      "test1 2 printing 6 Wed Aug 23 19:28:11 2023\n",
      "test1 0 printing 6 Wed Aug 23 19:28:11 2023\n",
      "test1 1 printing 7 Wed Aug 23 19:28:12 2023\n",
      "test1 2 printing 7 Wed Aug 23 19:28:12 2023\n",
      "test1 0 printing 7 Wed Aug 23 19:28:12 2023\n",
      "test1 1 printing 8 Wed Aug 23 19:28:13 2023\n",
      "test1 0 printing 8 Wed Aug 23 19:28:13 2023\n",
      "test1 2 printing 8 Wed Aug 23 19:28:13 2023\n",
      "test1 1 printing 9 Wed Aug 23 19:28:14 2023\n",
      "test1 0 printing 9 Wed Aug 23 19:28:14 2023\n",
      "test1 2 printing 9 Wed Aug 23 19:28:14 2023\n"
     ]
    }
   ],
   "source": [
    "def test2(id):\n",
    "    global shared_var\n",
    "    with lock_var:\n",
    "        shared_var = shared_var+1\n",
    "        print(\"test2 id is %d has increased the shared variable by %d\" %(id,shared_var))\n",
    "        time.sleep(1)\n",
    "thread3 = [threading.Thread(target=test2,args=(i,)) for i in range(3)]\n",
    "for t in thread3:\n",
    "    t.start()"
   ]
  },
  {
   "cell_type": "code",
   "execution_count": null,
   "metadata": {},
   "outputs": [],
   "source": [
    "import tkinter"
   ]
  },
  {
   "cell_type": "code",
   "execution_count": null,
   "metadata": {},
   "outputs": [],
   "source": []
  }
 ],
 "metadata": {
  "kernelspec": {
   "display_name": "Python 3",
   "language": "python",
   "name": "python3"
  },
  "language_info": {
   "codemirror_mode": {
    "name": "ipython",
    "version": 3
   },
   "file_extension": ".py",
   "mimetype": "text/x-python",
   "name": "python",
   "nbconvert_exporter": "python",
   "pygments_lexer": "ipython3",
   "version": "3.11.6"
  },
  "orig_nbformat": 4
 },
 "nbformat": 4,
 "nbformat_minor": 2
}
