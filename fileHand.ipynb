{
 "cells": [
  {
   "cell_type": "code",
   "execution_count": 1,
   "metadata": {},
   "outputs": [],
   "source": [
    "file = open('test.txt', 'w')"
   ]
  },
  {
   "attachments": {},
   "cell_type": "markdown",
   "metadata": {},
   "source": [
    "**Check pwd Present Working Directory**"
   ]
  },
  {
   "cell_type": "code",
   "execution_count": 2,
   "metadata": {},
   "outputs": [
    {
     "data": {
      "text/plain": [
       "'e:\\\\Full Stack Data Science'"
      ]
     },
     "execution_count": 2,
     "metadata": {},
     "output_type": "execute_result"
    }
   ],
   "source": [
    "pwd"
   ]
  },
  {
   "cell_type": "code",
   "execution_count": 3,
   "metadata": {},
   "outputs": [
    {
     "name": "stdout",
     "output_type": "stream",
     "text": [
      " Volume in drive E is New Volume\n",
      " Volume Serial Number is 4A75-6636\n",
      "\n",
      " Directory of e:\\Full Stack Data Science\n",
      "\n",
      "22-06-2023  07.07 AM    <DIR>          .\n",
      "21-06-2023  01.07 PM               495 10_feb_assign.ipynb\n",
      "26-02-2023  01.30 PM             7,274 Assign2Feb.ipynb\n",
      "24-02-2023  10.49 PM             6,962 Assign30Jan.ipynb\n",
      "08-03-2023  01.47 PM            11,764 Assign3Feb.ipynb\n",
      "13-03-2023  11.49 PM             6,602 Assign4feb.ipynb\n",
      "16-03-2023  12.54 PM             7,753 Assign5feb.ipynb\n",
      "20-03-2023  10.12 PM             9,493 Assign6Feb.ipynb\n",
      "17-03-2023  10.31 PM             2,205 Assign7Feb.ipynb\n",
      "08-04-2023  02.36 PM             7,227 Assign8feb.ipynb\n",
      "17-04-2023  12.50 PM             7,495 Assign9feb.ipynb\n",
      "15-02-2023  11.59 PM             5,943 Assignment1.ipynb\n",
      "19-02-2023  10.28 PM               591 AssignmentFor_loop.ipynb\n",
      "18-06-2023  08.24 PM               127 check.py\n",
      "18-06-2023  08.51 PM             8,478 classmeth.ipynb\n",
      "22-06-2023  11.28 AM            11,145 fileHand.ipynb\n",
      "19-06-2023  01.33 PM    <DIR>          Magic\n",
      "18-06-2023  08.27 PM            15,531 oops_2.ipynb\n",
      "10-04-2023  04.04 PM             4,823 oos.ipynb\n",
      "15-02-2023  11.43 PM             3,506 practice.ipynb\n",
      "23-02-2023  10.05 PM             5,164 practice_for.ipynb\n",
      "06-03-2023  08.15 PM             2,278 Practice_map_iter.ipynb\n",
      "19-02-2023  10.40 PM             1,419 practice_while.ipynb\n",
      "19-06-2023  12.51 PM             3,331 Static_meth.ipynb\n",
      "19-06-2023  12.24 PM             5,602 static_method_hindi_pw.ipynb\n",
      "24-04-2023  11.22 AM               138 student_data.csv\n",
      "22-06-2023  11.30 AM                 0 test.txt\n",
      "              25 File(s)        135,346 bytes\n",
      "               2 Dir(s)  116,930,461,696 bytes free\n"
     ]
    }
   ],
   "source": [
    "ls"
   ]
  },
  {
   "cell_type": "code",
   "execution_count": 4,
   "metadata": {},
   "outputs": [
    {
     "data": {
      "text/plain": [
       "30"
      ]
     },
     "execution_count": 4,
     "metadata": {},
     "output_type": "execute_result"
    }
   ],
   "source": [
    "file.write(\"yhis is my first file to write\")"
   ]
  },
  {
   "cell_type": "code",
   "execution_count": 5,
   "metadata": {},
   "outputs": [],
   "source": [
    "file.close()"
   ]
  },
  {
   "cell_type": "code",
   "execution_count": 6,
   "metadata": {},
   "outputs": [],
   "source": [
    "file=open(\"test.txt\",\"w\")\n"
   ]
  },
  {
   "cell_type": "code",
   "execution_count": 7,
   "metadata": {},
   "outputs": [
    {
     "data": {
      "text/plain": [
       "15"
      ]
     },
     "execution_count": 7,
     "metadata": {},
     "output_type": "execute_result"
    }
   ],
   "source": [
    "file.write(\"This is my file\")"
   ]
  },
  {
   "cell_type": "code",
   "execution_count": 8,
   "metadata": {},
   "outputs": [],
   "source": [
    "file.close()"
   ]
  },
  {
   "attachments": {},
   "cell_type": "markdown",
   "metadata": {},
   "source": [
    "**'w' first truncate(Erase) the data then writes**"
   ]
  },
  {
   "cell_type": "code",
   "execution_count": 9,
   "metadata": {},
   "outputs": [],
   "source": [
    "file=open(\"test.txt\",\"a\")\n"
   ]
  },
  {
   "cell_type": "code",
   "execution_count": 10,
   "metadata": {},
   "outputs": [
    {
     "data": {
      "text/plain": [
       "181"
      ]
     },
     "execution_count": 10,
     "metadata": {},
     "output_type": "execute_result"
    }
   ],
   "source": [
    "file.write(\"This is my ndnfsjdbfksn jsdfnidnsf jnndjbnsdff sjdfniusndfn sddfjsdns ddfjsdbdjhs ddfjhsdbfbsdjf jsddbfsdbd fjhs djsbddf js.an;a.kjaeelikjbdf efbeeakbfiab afb afbafb hf aibf df abf \")"
   ]
  },
  {
   "cell_type": "code",
   "execution_count": 11,
   "metadata": {},
   "outputs": [],
   "source": [
    "file.close()"
   ]
  },
  {
   "cell_type": "code",
   "execution_count": 12,
   "metadata": {},
   "outputs": [],
   "source": [
    "data=open(\"test.txt\",\"r\")"
   ]
  },
  {
   "cell_type": "code",
   "execution_count": 13,
   "metadata": {},
   "outputs": [
    {
     "data": {
      "text/plain": [
       "'This is my fileThis is my ndnfsjdbfksn jsdfnidnsf jnndjbnsdff sjdfniusndfn sddfjsdns ddfjsdbdjhs ddfjhsdbfbsdjf jsddbfsdbd fjhs djsbddf js.an;a.kjaeelikjbdf efbeeakbfiab afb afbafb hf aibf df abf '"
      ]
     },
     "execution_count": 13,
     "metadata": {},
     "output_type": "execute_result"
    }
   ],
   "source": [
    "data.read()"
   ]
  },
  {
   "cell_type": "code",
   "execution_count": 14,
   "metadata": {},
   "outputs": [
    {
     "data": {
      "text/plain": [
       "''"
      ]
     },
     "execution_count": 14,
     "metadata": {},
     "output_type": "execute_result"
    }
   ],
   "source": [
    "data.readline()"
   ]
  },
  {
   "cell_type": "code",
   "execution_count": 15,
   "metadata": {},
   "outputs": [
    {
     "data": {
      "text/plain": [
       "0"
      ]
     },
     "execution_count": 15,
     "metadata": {},
     "output_type": "execute_result"
    }
   ],
   "source": [
    "data.seek(0)"
   ]
  },
  {
   "cell_type": "code",
   "execution_count": 16,
   "metadata": {},
   "outputs": [
    {
     "data": {
      "text/plain": [
       "'This is my fileThis is my ndnfsjdbfksn jsdfnidnsf jnndjbnsdff sjdfniusndfn sddfjsdns ddfjsdbdjhs ddfjhsdbfbsdjf jsddbfsdbd fjhs djsbddf js.an;a.kjaeelikjbdf efbeeakbfiab afb afbafb hf aibf df abf '"
      ]
     },
     "execution_count": 16,
     "metadata": {},
     "output_type": "execute_result"
    }
   ],
   "source": [
    "data.readline()"
   ]
  },
  {
   "cell_type": "code",
   "execution_count": 17,
   "metadata": {},
   "outputs": [
    {
     "data": {
      "text/plain": [
       "10"
      ]
     },
     "execution_count": 17,
     "metadata": {},
     "output_type": "execute_result"
    }
   ],
   "source": [
    "data.seek(10)"
   ]
  },
  {
   "cell_type": "code",
   "execution_count": 18,
   "metadata": {},
   "outputs": [
    {
     "data": {
      "text/plain": [
       "' fileThis is my ndnfsjdbfksn jsdfnidnsf jnndjbnsdff sjdfniusndfn sddfjsdns ddfjsdbdjhs ddfjhsdbfbsdjf jsddbfsdbd fjhs djsbddf js.an;a.kjaeelikjbdf efbeeakbfiab afb afbafb hf aibf df abf '"
      ]
     },
     "execution_count": 18,
     "metadata": {},
     "output_type": "execute_result"
    }
   ],
   "source": [
    "data.readline()"
   ]
  },
  {
   "cell_type": "code",
   "execution_count": 19,
   "metadata": {},
   "outputs": [
    {
     "data": {
      "text/plain": [
       "''"
      ]
     },
     "execution_count": 19,
     "metadata": {},
     "output_type": "execute_result"
    }
   ],
   "source": [
    "data.readline()"
   ]
  },
  {
   "cell_type": "code",
   "execution_count": 20,
   "metadata": {},
   "outputs": [
    {
     "data": {
      "text/plain": [
       "0"
      ]
     },
     "execution_count": 20,
     "metadata": {},
     "output_type": "execute_result"
    }
   ],
   "source": [
    "data.seek(0)"
   ]
  },
  {
   "cell_type": "code",
   "execution_count": 21,
   "metadata": {},
   "outputs": [
    {
     "data": {
      "text/plain": [
       "'This is my fileThis is my ndnfsjdbfksn jsdfnidnsf jnndjbnsdff sjdfniusndfn sddfjsdns ddfjsdbdjhs ddfjhsdbfbsdjf jsddbfsdbd fjhs djsbddf js.an;a.kjaeelikjbdf efbeeakbfiab afb afbafb hf aibf df abf '"
      ]
     },
     "execution_count": 21,
     "metadata": {},
     "output_type": "execute_result"
    }
   ],
   "source": [
    "data.readline()"
   ]
  },
  {
   "cell_type": "code",
   "execution_count": 22,
   "metadata": {},
   "outputs": [],
   "source": [
    "data1 = open(\"test.txt\",\"r\")"
   ]
  },
  {
   "cell_type": "code",
   "execution_count": 23,
   "metadata": {},
   "outputs": [
    {
     "name": "stdout",
     "output_type": "stream",
     "text": [
      "This is my fileThis is my ndnfsjdbfksn jsdfnidnsf jnndjbnsdff sjdfniusndfn sddfjsdns ddfjsdbdjhs ddfjhsdbfbsdjf jsddbfsdbd fjhs djsbddf js.an;a.kjaeelikjbdf efbeeakbfiab afb afbafb hf aibf df abf \n"
     ]
    }
   ],
   "source": [
    "for i in data1:\n",
    "    print(i)"
   ]
  },
  {
   "cell_type": "code",
   "execution_count": 24,
   "metadata": {},
   "outputs": [],
   "source": [
    "import os"
   ]
  },
  {
   "cell_type": "code",
   "execution_count": 25,
   "metadata": {},
   "outputs": [
    {
     "data": {
      "text/plain": [
       "196"
      ]
     },
     "execution_count": 25,
     "metadata": {},
     "output_type": "execute_result"
    }
   ],
   "source": [
    "os.path.getsize(\"test.txt\")"
   ]
  },
  {
   "cell_type": "code",
   "execution_count": 26,
   "metadata": {},
   "outputs": [
    {
     "ename": "PermissionError",
     "evalue": "[WinError 32] The process cannot access the file because it is being used by another process: 'test.txt'",
     "output_type": "error",
     "traceback": [
      "\u001b[1;31m---------------------------------------------------------------------------\u001b[0m",
      "\u001b[1;31mPermissionError\u001b[0m                           Traceback (most recent call last)",
      "Cell \u001b[1;32mIn[26], line 1\u001b[0m\n\u001b[1;32m----> 1\u001b[0m os\u001b[39m.\u001b[39;49mremove(\u001b[39m\"\u001b[39;49m\u001b[39mtest.txt\u001b[39;49m\u001b[39m\"\u001b[39;49m)\n",
      "\u001b[1;31mPermissionError\u001b[0m: [WinError 32] The process cannot access the file because it is being used by another process: 'test.txt'"
     ]
    }
   ],
   "source": [
    "os.remove(\"test.txt\")"
   ]
  },
  {
   "cell_type": "code",
   "execution_count": null,
   "metadata": {},
   "outputs": [],
   "source": []
  }
 ],
 "metadata": {
  "kernelspec": {
   "display_name": "Python 3",
   "language": "python",
   "name": "python3"
  },
  "language_info": {
   "codemirror_mode": {
    "name": "ipython",
    "version": 3
   },
   "file_extension": ".py",
   "mimetype": "text/x-python",
   "name": "python",
   "nbconvert_exporter": "python",
   "pygments_lexer": "ipython3",
   "version": "3.11.2"
  },
  "orig_nbformat": 4
 },
 "nbformat": 4,
 "nbformat_minor": 2
}
